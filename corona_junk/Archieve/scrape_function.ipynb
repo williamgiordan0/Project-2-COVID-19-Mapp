def scrape_worldmeters():
    import pandas as pd
    import os
    url = 'https://www.worldometers.info/coronavirus/'
    tables = pd.read_html(url)
    worldmeters_today = tables[0]
    worldmeters_yesterday = tables[1]
    path = '.\Resources'
    worldmeters_today.to_csv(os.path.join(path, "worldmeters_today.csv"))
    worldmeters_yesterday.to_csv(os.path.join(path, "worldmeters_yesterday.csv"))