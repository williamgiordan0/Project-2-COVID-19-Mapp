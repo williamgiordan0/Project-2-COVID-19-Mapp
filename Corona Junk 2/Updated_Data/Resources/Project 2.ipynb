{
 "cells": [
  {
   "cell_type": "code",
   "execution_count": 7,
   "metadata": {},
   "outputs": [],
   "source": [
    "def scarpe_world_data():\n",
    "    #Import Relevant Libraries\n",
    "    import pandas as pd\n",
    "    from bs4 import BeautifulSoup as BS\n",
    "    import requests\n",
    "    from splinter import Browser\n",
    "    import pymongo\n",
    "    #from Driver import chromedriver\n",
    "    import os\n",
    "    \n",
    "    #Initiate Driver\n",
    "    executable_path = {'executable_path': 'chromedriver' }\n",
    "    #browser = Browser('chrome', **executable_path, headless=False)\n",
    "    \n",
    "    #URL to be scarped\n",
    "    url = 'https://www.latlong.net/category/states-236-14.html'\n",
    "    \n",
    "    #Submit Request\n",
    "    response = requests.get(url)\n",
    "    #Create list from request\n",
    "    df = pd.read_html(response.text)\n",
    "    \n",
    "    #Create two dataframes from list\n",
    "    lst1 = df[0]\n",
    "    #lst2 = df[1]\n",
    "    \n",
    "    #Create CVS files from data\n",
    "    path = '.'\n",
    "    lst1.to_csv(os.path.join(path, \"worldmeters_03282020.csv\"))\n",
    "    #lst2.to_csv(os.path.join(path, \"worldmeters_03292020.csv\"))"
   ]
  },
  {
   "cell_type": "code",
   "execution_count": 8,
   "metadata": {},
   "outputs": [],
   "source": [
    "scarpe_world_data()"
   ]
  },
  {
   "cell_type": "code",
   "execution_count": null,
   "metadata": {},
   "outputs": [],
   "source": []
  }
 ],
 "metadata": {
  "kernelspec": {
   "display_name": "Python 3",
   "language": "python",
   "name": "python3"
  },
  "language_info": {
   "codemirror_mode": {
    "name": "ipython",
    "version": 3
   },
   "file_extension": ".py",
   "mimetype": "text/x-python",
   "name": "python",
   "nbconvert_exporter": "python",
   "pygments_lexer": "ipython3",
   "version": "3.6.9"
  }
 },
 "nbformat": 4,
 "nbformat_minor": 2
}
